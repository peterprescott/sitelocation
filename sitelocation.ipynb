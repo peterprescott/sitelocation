{
 "cells": [
  {
   "cell_type": "markdown",
   "metadata": {},
   "source": [
    "//  ~ https://www.geog.leeds.ac.uk/courses/computing/study/core-python-phd/assessment2/best.html\n",
    "\n",
    "## Site location problem\n",
    "\n",
    "### Imagine you are a factory location analyst and you've been asked to help locate a factory that makes rock aggregate somewhere in the UK.\n",
    "\n",
    "The company you've been dealing with want to experiment with several factors that they think are important in the location process. They want an application that combines maps of the UK that represent the things that are important to them. Each map has a shading intensity which represents the best areas on the basis of different factors. For example, on the population map the areas near near city centres will be lighter than other areas. The maps need weights attributing to them depending on GUI scrollbars that the company execs can play with. They like that kind of thing.\n",
    "\n",
    "The maps are stored in files containing values between 0 and 255. 255 represents the best areas."
   ]
  },
  {
   "cell_type": "markdown",
   "metadata": {},
   "source": [
    "### Write a Jupyter Notebook which does the following.\n",
    "\n",
    "1. Takes in three maps of the UK: one which displays the importance of transport; one good geology areas; one population workforce. The higher the figures, the better the place for the company.\n",
    "\n",
    "2. Makes a display that combines/merges the maps, with the weighting on each map determined by one of three scrollbars, and displays them combined. I.e. if you turn up the scrollbars for geology and population and turn down the one for transport, the first two maps will be merged and the shading on the map will be 50 percent due to each. For a badly coded example see [here](http://www.ccg.leeds.ac.uk/teaching/nuclearwaste/).\n",
    "\n",
    "To do this, take the three values for each pixel (one value from the geology, one from the population, one from the transport), and multiple each by the scrollbar value for that map. Then add the values from the three maps together. Repeat this for all the pixels, and then re-range the dataset so that the numbers come out in the 0 to 255 range. Use this dataset to then construct a **grayscale** image.\n",
    "\n",
    "3. Allows the user of the Notebook to save the weighted map they are happiest with as a raster style comma-separated text file where each line equals one line of the image. The figures should range between 0 and 255."
   ]
  },
  {
   "cell_type": "code",
   "execution_count": 40,
   "metadata": {},
   "outputs": [],
   "source": [
    "# take in three maps of the UK...\n",
    "\n",
    "import csv\n",
    "import urllib.request\n",
    "import codecs\n",
    "\n",
    "def get_csv_map(url):\n",
    "    array = []\n",
    "    ftpstream = urllib.request.urlopen(url)\n",
    "    csvfile = csv.reader(codecs.iterdecode(ftpstream, 'utf-8'))\n",
    "    for line in csvfile:\n",
    "        integers = []\n",
    "        for value in line:\n",
    "            integer_value = int(value)\n",
    "            integers.append(integer_value)\n",
    "        array.append(integers)\n",
    "    return array\n",
    "        \n",
    "transport = get_csv_map('https://www.geog.leeds.ac.uk/courses/computing/study/core-python-phd/assessment2/best.mway')\n",
    "geology = get_csv_map('https://www.geog.leeds.ac.uk/courses/computing/study/core-python-phd/assessment2/best.geology')\n",
    "population = get_csv_map('https://www.geog.leeds.ac.uk/courses/computing/study/core-python-phd/assessment2/best.pop')"
   ]
  },
  {
   "cell_type": "code",
   "execution_count": 46,
   "metadata": {},
   "outputs": [
    {
     "name": "stdout",
     "output_type": "stream",
     "text": [
      "0 for Transport, 1 for Geology, 2 for Population\n"
     ]
    },
    {
     "data": {
      "application/vnd.jupyter.widget-view+json": {
       "model_id": "d7fd1652628a49dca088c8c065cd0af7",
       "version_major": 2,
       "version_minor": 0
      },
      "text/plain": [
       "interactive(children=(IntSlider(value=1, description='Map', max=2), Output()), _dom_classes=('widget-interact'…"
      ]
     },
     "metadata": {},
     "output_type": "display_data"
    },
    {
     "data": {
      "text/plain": [
       "<function __main__.f(Map)>"
      ]
     },
     "execution_count": 46,
     "metadata": {},
     "output_type": "execute_result"
    }
   ],
   "source": [
    "# check that's worked by drawing the maps\n",
    "\n",
    "import matplotlib.pyplot as plt\n",
    "%matplotlib inline\n",
    "\n",
    "\n",
    "plt.rcParams['figure.figsize'] = [9.5,6]\n",
    "\n",
    "map = [transport, geology, population]\n",
    "\n",
    "from ipywidgets import interact\n",
    "\n",
    "def f(Map):\n",
    "    plt.imshow(map[Map])\n",
    "    return Map\n",
    "\n",
    "print(\"0 for Transport, 1 for Geology, 2 for Population\")\n",
    "interact(f, Map=widgets.IntSlider(min=0, max=2, step=1, value=1))\n",
    "\n",
    "\n",
    "\n"
   ]
  },
  {
   "cell_type": "code",
   "execution_count": 48,
   "metadata": {},
   "outputs": [
    {
     "data": {
      "application/vnd.jupyter.widget-view+json": {
       "model_id": "83247adbd0ac4418808384a6a7f4443a",
       "version_major": 2,
       "version_minor": 0
      },
      "text/plain": [
       "interactive(children=(IntSlider(value=50, description='x'), Output()), _dom_classes=('widget-interact',))"
      ]
     },
     "metadata": {},
     "output_type": "display_data"
    },
    {
     "data": {
      "application/vnd.jupyter.widget-view+json": {
       "model_id": "d80e7952e1894ea49272ba5d4f129ff6",
       "version_major": 2,
       "version_minor": 0
      },
      "text/plain": [
       "interactive(children=(IntSlider(value=50, description='x'), Output()), _dom_classes=('widget-interact',))"
      ]
     },
     "metadata": {},
     "output_type": "display_data"
    },
    {
     "data": {
      "application/vnd.jupyter.widget-view+json": {
       "model_id": "5e674724abcc4522b624490897dd7cdf",
       "version_major": 2,
       "version_minor": 0
      },
      "text/plain": [
       "interactive(children=(IntSlider(value=50, description='x'), Output()), _dom_classes=('widget-interact',))"
      ]
     },
     "metadata": {},
     "output_type": "display_data"
    }
   ],
   "source": [
    "# make a display that combines/merges the maps,  \n",
    "# with weighting on each map determined by one of three scrollbars\n",
    "# and displays them combined\n",
    "\n",
    "from ipywidgets import interact\n",
    "\n",
    "t_weight = 100\n",
    "g_weight = 100\n",
    "p_weight = 100\n",
    "\n",
    "def f(x):\n",
    "    t_weight = x\n",
    "    aggregate_map(t_weight,g_weight,p_weight)\n",
    "    return x\n",
    "\n",
    "def g(x):\n",
    "    g_weight = x\n",
    "    aggregate_map(t_weight,g_weight,p_weight)\n",
    "    return x\n",
    "\n",
    "def h(x):\n",
    "    p_weight = x\n",
    "    aggregate_map(t_weight,g_weight,p_weight)\n",
    "    return x\n",
    "\n",
    "interact(f, x=widgets.IntSlider(min=0, max=100, step=1, value=50))\n",
    "interact(g, x=widgets.IntSlider(min=0, max=100, step=1, value=50))\n",
    "interact(h, x=widgets.IntSlider(min=0, max=100, step=1, value=50))\n",
    "\n",
    "def aggregate_map(transport_weight, geology_weight, population_weight):\n",
    "    t = transport_weight/100\n",
    "    g = geology_weight/100\n",
    "    p = population_weight/100\n",
    "\n",
    "    aggregate_map = []\n",
    "\n",
    "    for row_number in range(len(transport)):\n",
    "        aggregate_row = []\n",
    "        for column_number in range(len(transport[0])):\n",
    "            value = transport[row_number][column_number]*t + geology[row_number][column_number]*g + population[row_number][column_number]*p\n",
    "            aggregate_row.append(int(value/3))\n",
    "        aggregate_map.append(aggregate_row)\n",
    "    \n",
    "    plt.imshow(aggregate_map)\n",
    "    return aggregate_map\n",
    "\n",
    "\n",
    "\n"
   ]
  },
  {
   "cell_type": "markdown",
   "metadata": {},
   "source": [
    "### Additional marks are awarded for the following.\n",
    "\n",
    "Allow them to display the top 10 percent of the areas in blue if they want, then return it to greyscale. The lightness of the blue should still reflect the underlying values."
   ]
  },
  {
   "cell_type": "markdown",
   "metadata": {},
   "source": [
    "### Files for this project.\n",
    "\n",
    "3 x raster files representing the geology, transport network, and population density of the UK. All files listed from top left to bottom right. Each line is a line in the raster.\n",
    "\n",
    "- [Geology](https://www.geog.leeds.ac.uk/courses/computing/study/core-python-phd/assessment2/best.geology) ([GIF version](https://www.geog.leeds.ac.uk/courses/computing/study/core-python-phd/assessment2/bestgeology.gif) for comparison, don't use this in the project.)\n",
    "- [Transport](https://www.geog.leeds.ac.uk/courses/computing/study/core-python-phd/assessment2/best.mway) ([GIF version](https://www.geog.leeds.ac.uk/courses/computing/study/core-python-phd/assessment2/bestmway.gif) for comparison, don't use this in the project.)\n",
    "- [Population](https://www.geog.leeds.ac.uk/courses/computing/study/core-python-phd/assessment2/best.pop) ([GIF version](https://www.geog.leeds.ac.uk/courses/computing/study/core-python-phd/assessment2/bestpop.gif) for comparison, don't use this in the project.)"
   ]
  }
 ],
 "metadata": {
  "kernelspec": {
   "display_name": "Python 3",
   "language": "python",
   "name": "python3"
  },
  "language_info": {
   "codemirror_mode": {
    "name": "ipython",
    "version": 3
   },
   "file_extension": ".py",
   "mimetype": "text/x-python",
   "name": "python",
   "nbconvert_exporter": "python",
   "pygments_lexer": "ipython3",
   "version": "3.7.4"
  }
 },
 "nbformat": 4,
 "nbformat_minor": 4
}
